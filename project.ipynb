{
 "cells": [
  {
   "cell_type": "markdown",
   "id": "a3c7b40f",
   "metadata": {},
   "source": [
    "Step 1: Read the csv file using pandas"
   ]
  },
  {
   "cell_type": "code",
   "execution_count": 12,
   "id": "3360dd34",
   "metadata": {},
   "outputs": [
    {
     "name": "stderr",
     "output_type": "stream",
     "text": [
      "C:\\Users\\arun prakash\\AppData\\Local\\Temp\\ipykernel_424\\1254529514.py:4: DtypeWarning: Columns (10) have mixed types. Specify dtype option on import or set low_memory=False.\n",
      "  df = pd.read_csv(file_path)\n"
     ]
    }
   ],
   "source": [
    "import pandas as pd\n",
    "\n",
    "file_path = r\"C:\\Users\\arun prakash\\OneDrive\\Desktop\\traffic_stops.csv\"\n",
    "df = pd.read_csv(file_path)"
   ]
  },
  {
   "cell_type": "markdown",
   "id": "00439a50",
   "metadata": {},
   "source": [
    "Step 2: Check for Duplicate values"
   ]
  },
  {
   "cell_type": "code",
   "execution_count": 14,
   "id": "89b55635",
   "metadata": {},
   "outputs": [],
   "source": [
    "df = df.drop_duplicates()"
   ]
  },
  {
   "cell_type": "markdown",
   "id": "6572c788",
   "metadata": {},
   "source": [
    "Step 3: Check for null values"
   ]
  },
  {
   "cell_type": "code",
   "execution_count": 6,
   "id": "53c2e74a",
   "metadata": {},
   "outputs": [
    {
     "data": {
      "text/plain": [
       "stop_date                 0\n",
       "stop_time                 0\n",
       "country_name              0\n",
       "driver_gender             0\n",
       "driver_age_raw            0\n",
       "driver_age                0\n",
       "driver_race               0\n",
       "violation_raw             0\n",
       "violation                 0\n",
       "search_conducted          0\n",
       "search_type           21720\n",
       "stop_outcome              0\n",
       "is_arrested               0\n",
       "stop_duration             0\n",
       "drugs_related_stop        0\n",
       "vehicle_number            0\n",
       "dtype: int64"
      ]
     },
     "execution_count": 6,
     "metadata": {},
     "output_type": "execute_result"
    }
   ],
   "source": [
    "df.isnull().sum()"
   ]
  },
  {
   "cell_type": "markdown",
   "id": "b0ad3690",
   "metadata": {},
   "source": [
    "Step 4: Fill Null Values Using fillna Method"
   ]
  },
  {
   "cell_type": "code",
   "execution_count": 15,
   "id": "4353633c",
   "metadata": {},
   "outputs": [
    {
     "name": "stderr",
     "output_type": "stream",
     "text": [
      "C:\\Users\\arun prakash\\AppData\\Local\\Temp\\ipykernel_424\\655428518.py:1: FutureWarning: A value is trying to be set on a copy of a DataFrame or Series through chained assignment using an inplace method.\n",
      "The behavior will change in pandas 3.0. This inplace method will never work because the intermediate object on which we are setting values always behaves as a copy.\n",
      "\n",
      "For example, when doing 'df[col].method(value, inplace=True)', try using 'df.method({col: value}, inplace=True)' or df[col] = df[col].method(value) instead, to perform the operation inplace on the original object.\n",
      "\n",
      "\n",
      "  df['search_type'].fillna('Notspecified', inplace=True)\n"
     ]
    },
    {
     "data": {
      "text/plain": [
       "search_type\n",
       "Frisk             21971\n",
       "Vehicle Search    21847\n",
       "Notspecified      21720\n",
       "Name: count, dtype: int64"
      ]
     },
     "metadata": {},
     "output_type": "display_data"
    }
   ],
   "source": [
    "df['search_type'].fillna('Notspecified', inplace=True)\n",
    "display(df['search_type'].value_counts())"
   ]
  },
  {
   "cell_type": "markdown",
   "id": "3e58e61b",
   "metadata": {},
   "source": [
    "Step 5: Changing Data Types For 'stop_date' & 'stop_time' columns"
   ]
  },
  {
   "cell_type": "code",
   "execution_count": 17,
   "id": "9ca60695",
   "metadata": {},
   "outputs": [],
   "source": [
    "from datetime import datetime\n",
    "\n",
    "df['stop_date'] = pd.to_datetime(df['stop_date'], format = '%m/%d/%Y')\n",
    "df['stop_time'] = pd.to_datetime(df['stop_time'], format = '%H:%M:%S')"
   ]
  },
  {
   "cell_type": "markdown",
   "id": "dc3fe92c",
   "metadata": {},
   "source": [
    "Step 6: Droping the 'driver_age_raw' & 'violation_raw' columns"
   ]
  },
  {
   "cell_type": "code",
   "execution_count": 19,
   "id": "d617a94d",
   "metadata": {},
   "outputs": [],
   "source": [
    "df.drop(columns=['driver_age_raw', 'violation_raw'], inplace=True)"
   ]
  },
  {
   "cell_type": "code",
   "execution_count": 20,
   "id": "b989e653",
   "metadata": {},
   "outputs": [
    {
     "name": "stdout",
     "output_type": "stream",
     "text": [
      "<class 'pandas.core.frame.DataFrame'>\n",
      "RangeIndex: 65538 entries, 0 to 65537\n",
      "Data columns (total 14 columns):\n",
      " #   Column              Non-Null Count  Dtype         \n",
      "---  ------              --------------  -----         \n",
      " 0   stop_date           65538 non-null  datetime64[ns]\n",
      " 1   stop_time           65538 non-null  datetime64[ns]\n",
      " 2   country_name        65538 non-null  object        \n",
      " 3   driver_gender       65538 non-null  object        \n",
      " 4   driver_age          65538 non-null  int64         \n",
      " 5   driver_race         65538 non-null  object        \n",
      " 6   violation           65538 non-null  object        \n",
      " 7   search_conducted    65538 non-null  bool          \n",
      " 8   search_type         65538 non-null  object        \n",
      " 9   stop_outcome        65538 non-null  object        \n",
      " 10  is_arrested         65538 non-null  bool          \n",
      " 11  stop_duration       65538 non-null  object        \n",
      " 12  drugs_related_stop  65538 non-null  bool          \n",
      " 13  vehicle_number      65538 non-null  object        \n",
      "dtypes: bool(3), datetime64[ns](2), int64(1), object(8)\n",
      "memory usage: 5.7+ MB\n"
     ]
    }
   ],
   "source": [
    "df.info()"
   ]
  },
  {
   "cell_type": "markdown",
   "id": "eb2a731c",
   "metadata": {},
   "source": [
    "Step 7: SQL Connection"
   ]
  },
  {
   "cell_type": "code",
   "execution_count": 9,
   "id": "4ae1e193",
   "metadata": {},
   "outputs": [
    {
     "name": "stdout",
     "output_type": "stream",
     "text": [
      "MySQL connection established!\n"
     ]
    }
   ],
   "source": [
    "import mysql.connector\n",
    "\n",
    "conn_mysql = mysql.connector.connect(\n",
    "    host=\"localhost\",\n",
    "    user=\"root\",\n",
    "    password=\"root\"\n",
    ")\n",
    "cursor_mysql = conn_mysql.cursor()\n",
    "print(\"MySQL connection established!\")"
   ]
  },
  {
   "cell_type": "markdown",
   "id": "65d68b1a",
   "metadata": {},
   "source": [
    "Step 8: Creating the Database"
   ]
  },
  {
   "cell_type": "code",
   "execution_count": 10,
   "id": "aeaf51f5",
   "metadata": {},
   "outputs": [
    {
     "name": "stdout",
     "output_type": "stream",
     "text": [
      "MySQL database 'Securecheck_db' created successfully!\n"
     ]
    }
   ],
   "source": [
    "cursor_mysql.execute(\"CREATE DATABASE IF NOT EXISTS Securecheck_db;\")\n",
    "print(\"MySQL database 'Securecheck_db' created successfully!\")"
   ]
  },
  {
   "cell_type": "markdown",
   "id": "f47d9b24",
   "metadata": {},
   "source": [
    "Step 9: Creating a Table in the Database"
   ]
  },
  {
   "cell_type": "code",
   "execution_count": null,
   "id": "76759f3e",
   "metadata": {},
   "outputs": [
    {
     "name": "stdout",
     "output_type": "stream",
     "text": [
      "Table 'Police_Checking' created successfully in MySQL!\n"
     ]
    }
   ],
   "source": [
    "cursor_mysql.execute(\"USE Securecheck_db;\")  # Select database\n",
    "cursor_mysql.execute(\"\"\"\n",
    "    CREATE TABLE IF NOT EXISTS Police_Checking (\n",
    "        stop_date DATE,\n",
    "        stop_time TIME,\n",
    "        country_name VARCHAR(50),\n",
    "        driver_gender VARCHAR(10),\n",
    "        driver_age INT,\n",
    "        driver_race VARCHAR(50),\n",
    "        violation VARCHAR(50),\n",
    "        search_conducted BOOLEAN,\n",
    "        search_type VARCHAR(50),\n",
    "        stop_outcome VARCHAR(50),\n",
    "        is_arrested BOOLEAN,\n",
    "        stop_duration VARCHAR(50),\n",
    "        drugs_related_stop BOOLEAN,\n",
    "        vehicle_number VARCHAR(50)\n",
    "    );\n",
    "\"\"\")\n",
    "conn_mysql.commit()\n",
    "print(\"Table 'Police_Checking' created successfully in MySQL!\")"
   ]
  },
  {
   "cell_type": "markdown",
   "id": "a96e4b92",
   "metadata": {},
   "source": [
    "Step 10: Inserting the Data into the Table Using Different Methods to_list()"
   ]
  },
  {
   "cell_type": "code",
   "execution_count": 24,
   "id": "63b27cce",
   "metadata": {},
   "outputs": [
    {
     "name": "stdout",
     "output_type": "stream",
     "text": [
      "Data inserted using to_list()\n"
     ]
    }
   ],
   "source": [
    "data_list = df.values.tolist()\n",
    "query = \"\"\"\n",
    "    INSERT INTO Police_Checking (stop_date, stop_time, country_name, driver_gender,\n",
    "    driver_age, driver_race, violation, search_conducted, search_type, stop_outcome,\n",
    "    is_arrested, stop_duration, drugs_related_stop, vehicle_number)\n",
    "    VALUES (%s, %s, %s, %s, %s, %s, %s, %s, %s, %s, %s, %s, %s, %s);\n",
    "\"\"\"\n",
    "\n",
    "cursor_mysql.executemany(query, data_list)\n",
    "conn_mysql.commit()\n",
    "print(\"Data inserted using to_list()\")"
   ]
  }
 ],
 "metadata": {
  "kernelspec": {
   "display_name": "Python 3",
   "language": "python",
   "name": "python3"
  },
  "language_info": {
   "codemirror_mode": {
    "name": "ipython",
    "version": 3
   },
   "file_extension": ".py",
   "mimetype": "text/x-python",
   "name": "python",
   "nbconvert_exporter": "python",
   "pygments_lexer": "ipython3",
   "version": "3.13.3"
  }
 },
 "nbformat": 4,
 "nbformat_minor": 5
}
